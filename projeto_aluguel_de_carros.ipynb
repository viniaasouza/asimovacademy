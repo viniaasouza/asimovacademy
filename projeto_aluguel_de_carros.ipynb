{
 "cells": [
  {
   "cell_type": "markdown",
   "id": "6d34e3e8-d0d8-4a2c-b625-143abe11f747",
   "metadata": {},
   "source": [
    "desenvolver um algoritmo para uma locadora de carros\n",
    "0 - mostrar portfólio   1- alugar um carro    2- devolver um carro\n"
   ]
  },
  {
   "cell_type": "code",
   "execution_count": null,
   "id": "43a48251-9ca6-452a-86f2-8b03a33d5ccc",
   "metadata": {},
   "outputs": [],
   "source": [
    "def mostrar_menu():\n",
    "    print(\"O que você gostaria de fazer?\")\n",
    "    print(\"1 - Mostrar portfólio\")\n",
    "    print(\"2 - Alugar um carro\")\n",
    "    print(\"3 - Devolver um carro\")\n",
    "    print(\"0 - Sair\")\n",
    "\n",
    "\n",
    "def mostrar_portfolio():\n",
    "    lista_carros = {\n",
    "        1: \"Fiat Mobi\",\n",
    "        2: \"Fiat Uno\",\n",
    "        3: \"Ford Ka\"\n",
    "    }\n",
    "    print(lista_carros)\n",
    "\n",
    "\n",
    "def alugar():\n",
    "    wcar = input(\"Escolha qual carro deseja alugar: \")\n",
    "    return wcar\n",
    "\n",
    "\n",
    "def devolver(v1):\n",
    "    dicionario_recebido = {v1: \"Carro Devolvido\"}\n",
    "    print(dicionario_recebido)\n",
    "    mandar_portfolio = input(\"Qual carro deseja devolver: {}\".format(dicionario_recebido))\n",
    "    return mandar_portfolio\n",
    "\n",
    "\n",
    "while True:\n",
    "    mostrar_menu()\n",
    "    escolha = int(input(\"Escolha uma opção: \"))\n",
    "\n",
    "    if escolha == 1:\n",
    "        mostrar_portfolio()\n",
    "    elif escolha == 2:\n",
    "        mandar_devolver = alugar()\n",
    "        mostrar_portfolio().pop(mandar_devolver)\n",
    "    elif escolha == 3:\n",
    "        carro_para_devolver = input(\"Digite o carro que deseja devolver: \")\n",
    "        devolver(carro_para_devolver)\n",
    "        print(\"Você devolveu o carro\")\n",
    "    elif escolha == 0:\n",
    "        print(\"Saindo do programa...\")\n",
    "        break\n",
    "    else:\n",
    "        print(\"Opção inválida! Por favor, escolha uma opção válida.\")\n",
    "\n",
    "\n",
    "                      \n",
    "                    "
   ]
  },
  {
   "cell_type": "markdown",
   "id": "423997dc-cf88-4873-8240-26f9def31ca8",
   "metadata": {},
   "source": [
    "UMA RESOLUÇÃO DE COMO FOI RESOLVIDA"
   ]
  },
  {
   "cell_type": "code",
   "execution_count": 23,
   "id": "706dc0af-43cf-41da-988f-bda6318ed917",
   "metadata": {},
   "outputs": [
    {
     "name": "stdout",
     "output_type": "stream",
     "text": [
      "=======\n",
      "bem vindo à locadora de carros!\n",
      "=======\n",
      "o que você deseja fazer?\n",
      "0 - Mostrar portfólio | 1 - Alugar um Carro | 2 - Devolver um Carro\n"
     ]
    },
    {
     "name": "stdin",
     "output_type": "stream",
     "text": [
      " 1\n"
     ]
    },
    {
     "name": "stdout",
     "output_type": "stream",
     "text": [
      "[0] Chevrolet Tracker - R$ 120 /dia\n",
      "[1] Chevrolet Onix - R$ 90 /dia\n",
      "[2] Chevrolet Spin - R$ 150 /dia\n",
      "[3] Hyundai HB20 - R$ 85 /dia\n",
      "[4] Hyundai Tucson - R$ 120 /dia\n",
      "[5] Fiat Uno - R$ 60 /dia\n",
      "[6] Fiat mobi - R$ 70 /dia\n",
      "[7] Fiat Pulse - R$ 130 /dia\n",
      "escolha o código do carro para alugar\n"
     ]
    },
    {
     "name": "stdin",
     "output_type": "stream",
     "text": [
      " 7\n"
     ]
    },
    {
     "name": "stdout",
     "output_type": "stream",
     "text": [
      "por quantos dias você quer locar este carro?\n"
     ]
    },
    {
     "name": "stdin",
     "output_type": "stream",
     "text": [
      " 5\n"
     ]
    },
    {
     "name": "stdout",
     "output_type": "stream",
     "text": [
      "você escolher o carro Fiat Pulse por 5 dias\n",
      "o valor final do seu aluguel será R$650 Reais\n",
      "0 - SIM | 1 - NÃO\n"
     ]
    },
    {
     "name": "stdin",
     "output_type": "stream",
     "text": [
      " 0\n"
     ]
    },
    {
     "name": "stdout",
     "output_type": "stream",
     "text": [
      "parabéns, você alugou o carro por 5 dias.\n",
      "=======\n",
      "Digite 0 para Continuar - Digite 1 para - Sair\n"
     ]
    },
    {
     "name": "stdin",
     "output_type": "stream",
     "text": [
      " 0\n"
     ]
    },
    {
     "name": "stdout",
     "output_type": "stream",
     "text": [
      "=======\n",
      "bem vindo à locadora de carros!\n",
      "=======\n",
      "o que você deseja fazer?\n",
      "0 - Mostrar portfólio | 1 - Alugar um Carro | 2 - Devolver um Carro\n"
     ]
    },
    {
     "name": "stdin",
     "output_type": "stream",
     "text": [
      " 2\n"
     ]
    },
    {
     "name": "stdout",
     "output_type": "stream",
     "text": [
      "segue a lista de carros para devolver. Qual você deseja devolver?\n",
      "[0] Fiat Pulse - R$ 130 /dia\n",
      "\n",
      "escolha o código do carro que deseja devolver:\n"
     ]
    },
    {
     "name": "stdin",
     "output_type": "stream",
     "text": [
      " 0\n"
     ]
    },
    {
     "name": "stdout",
     "output_type": "stream",
     "text": [
      "obrigado por devolver o carro Fiat Pulse\n",
      "=======\n",
      "Digite 0 para Continuar - Digite 1 para - Sair\n"
     ]
    },
    {
     "name": "stdin",
     "output_type": "stream",
     "text": [
      " 0\n"
     ]
    },
    {
     "name": "stdout",
     "output_type": "stream",
     "text": [
      "=======\n",
      "bem vindo à locadora de carros!\n",
      "=======\n",
      "o que você deseja fazer?\n",
      "0 - Mostrar portfólio | 1 - Alugar um Carro | 2 - Devolver um Carro\n"
     ]
    },
    {
     "name": "stdin",
     "output_type": "stream",
     "text": [
      " 2\n"
     ]
    },
    {
     "name": "stdout",
     "output_type": "stream",
     "text": [
      "nao há carros para devolver\n",
      "=======\n",
      "Digite 0 para Continuar - Digite 1 para - Sair\n"
     ]
    },
    {
     "name": "stdin",
     "output_type": "stream",
     "text": [
      " 1\n"
     ]
    }
   ],
   "source": [
    "import os\n",
    "carros = [(\"Chevrolet Tracker\", 120),\n",
    "          (\"Chevrolet Onix\", 90),\n",
    "          (\"Chevrolet Spin\", 150),\n",
    "          (\"Hyundai HB20\",85),\n",
    "          (\"Hyundai Tucson\", 120),\n",
    "          (\"Fiat Uno\", 60),\n",
    "          (\"Fiat mobi\", 70),\n",
    "          (\"Fiat Pulse\", 130)\n",
    "         ]\n",
    "\n",
    "alugados = []\n",
    "\n",
    "\n",
    "\n",
    "\n",
    "def mostrar_lista_de_carros(lista_de_carros):\n",
    "    for i, car in enumerate(lista_de_carros): #passando duas variáveis,i(para id) e car(para a lista dos carros) na function enumerate para extrair tanto o id quanto a lista de carros\n",
    "        print(\"[{}] {} - R$ {} /dia\".format(i, car[0], car[1])) #esse codigo aqui, vai imprimir o ID de cada carro da lista junto com a lista de carros e o valor por dia\n",
    "\n",
    "\n",
    "while True:\n",
    "    os.system(\"clear\")\n",
    "    print(\"=======\")\n",
    "    print(\"bem vindo à locadora de carros!\")\n",
    "    print(\"=======\")\n",
    "    print(\"o que você deseja fazer?\")\n",
    "    print(\"0 - Mostrar portfólio | 1 - Alugar um Carro | 2 - Devolver um Carro\")\n",
    "    op = int(input())\n",
    "\n",
    "    os.system(\"clear\")\n",
    "    if op == 0:\n",
    "        mostrar_lista_de_carros(carros)\n",
    "\n",
    "    elif op == 1:\n",
    "        mostrar_lista_de_carros(carros)\n",
    "        print(\"escolha o código do carro para alugar\")\n",
    "        cod_car = int(input())\n",
    "        print(\"por quantos dias você quer locar este carro?\")\n",
    "        dias = int(input())\n",
    "        os.system(\"clear\")\n",
    "\n",
    "        print(\"você escolher o carro {} por {} dias\".format(carros[cod_car][0], dias))#nesta linha ele printa a variavel selecionada acima, chama a lista carros[codigo que o cliente escolheu][0 para não imprimir o valor]\n",
    "        print(\"o valor final do seu aluguel será R${} Reais\".format(carros[cod_car][1]*dias))#nesta ele calcula a lista carros[codigo do carro][e seu respectivo valor]\n",
    "\n",
    "\n",
    "        print(\"0 - SIM | 1 - NÃO\")\n",
    "        conf = int(input())\n",
    "        if conf == 0:\n",
    "            print(\"parabéns, você alugou o carro por {} dias.\".format(dias))\n",
    "            alugados.append(carros.pop(cod_car))#uma leitura de trás pra frente para entender. pego o indice da lista carros, retira com (pop) e adiciona ao fim na lista alugados com append\n",
    "            \n",
    "    elif op == 2:\n",
    "        if len(alugados) == 0:\n",
    "            print('nao há carros para devolver')\n",
    "        else:\n",
    "            print(\"segue a lista de carros para devolver. Qual você deseja devolver?\")\n",
    "            mostrar_lista_de_carros(alugados)\n",
    "            print(\"\")\n",
    "            print(\"escolha o código do carro que deseja devolver:\")\n",
    "            cod = int(input())\n",
    "            if conf == 0:\n",
    "                print(\"obrigado por devolver o carro {}\".format(alugados[cod][0]))\n",
    "                carros.append(alugados.pop(cod))\n",
    "\n",
    "    print(\"=======\")\n",
    "    print(\"Digite 0 para Continuar - Digite 1 para - Sair\")\n",
    "    if float(input()) == 1:\n",
    "        break\n",
    "    "
   ]
  },
  {
   "cell_type": "code",
   "execution_count": null,
   "id": "83a8f9b6-8791-4cd4-8c95-b14c72258c47",
   "metadata": {},
   "outputs": [],
   "source": []
  }
 ],
 "metadata": {
  "kernelspec": {
   "display_name": "Python 3 (ipykernel)",
   "language": "python",
   "name": "python3"
  },
  "language_info": {
   "codemirror_mode": {
    "name": "ipython",
    "version": 3
   },
   "file_extension": ".py",
   "mimetype": "text/x-python",
   "name": "python",
   "nbconvert_exporter": "python",
   "pygments_lexer": "ipython3",
   "version": "3.12.4"
  }
 },
 "nbformat": 4,
 "nbformat_minor": 5
}
