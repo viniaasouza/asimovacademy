{
 "cells": [
  {
   "cell_type": "code",
   "execution_count": 7,
   "id": "2b917f44-f91f-4397-8de7-24a35fe40594",
   "metadata": {},
   "outputs": [],
   "source": [
    "import logging"
   ]
  },
  {
   "cell_type": "code",
   "execution_count": 27,
   "id": "11a9bd8b-d343-42c2-a954-89a437183b7b",
   "metadata": {},
   "outputs": [],
   "source": [
    "logging.basicConfig(filename=\"app.log1\", level = logging.DEBUG)"
   ]
  },
  {
   "cell_type": "code",
   "execution_count": 17,
   "id": "98187efa-cd6a-4291-b3a8-d78ab8a71790",
   "metadata": {},
   "outputs": [],
   "source": [
    "log = logging.getLogger()"
   ]
  },
  {
   "cell_type": "code",
   "execution_count": 30,
   "id": "f465c87f-eb96-4fd2-a377-ad520aac378b",
   "metadata": {},
   "outputs": [],
   "source": [
    "log.info(\"olá\")\n",
    "log.critical(\"Erro grave\")"
   ]
  },
  {
   "cell_type": "code",
   "execution_count": 25,
   "id": "37a44e56-06ad-40a3-9191-9e6b36570d39",
   "metadata": {},
   "outputs": [
    {
     "data": {
      "text/plain": [
       "10"
      ]
     },
     "execution_count": 25,
     "metadata": {},
     "output_type": "execute_result"
    }
   ],
   "source": [
    "log.level"
   ]
  },
  {
   "cell_type": "code",
   "execution_count": null,
   "id": "a1aceb1a-f8ac-4796-b375-6e4fae3193d1",
   "metadata": {},
   "outputs": [],
   "source": []
  }
 ],
 "metadata": {
  "kernelspec": {
   "display_name": "Python 3 (ipykernel)",
   "language": "python",
   "name": "python3"
  },
  "language_info": {
   "codemirror_mode": {
    "name": "ipython",
    "version": 3
   },
   "file_extension": ".py",
   "mimetype": "text/x-python",
   "name": "python",
   "nbconvert_exporter": "python",
   "pygments_lexer": "ipython3",
   "version": "3.12.4"
  }
 },
 "nbformat": 4,
 "nbformat_minor": 5
}
