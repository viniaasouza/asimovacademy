{
 "cells": [
  {
   "cell_type": "markdown",
   "id": "583dfd6c-c103-4341-8ce2-2ac04afaf457",
   "metadata": {},
   "source": [
    "fazer uma clculadora de IMC"
   ]
  },
  {
   "cell_type": "code",
   "execution_count": 17,
   "id": "8e4c4570-dc4f-4e5b-ae03-b23bd2167757",
   "metadata": {},
   "outputs": [
    {
     "name": "stdout",
     "output_type": "stream",
     "text": [
      "Bem vindo a calculadora de IMC\n",
      "Por favor, informe sua altura:\n"
     ]
    },
    {
     "name": "stdin",
     "output_type": "stream",
     "text": [
      " 1.80\n"
     ]
    },
    {
     "name": "stdout",
     "output_type": "stream",
     "text": [
      "Por favor, informe seu peso:\n"
     ]
    },
    {
     "name": "stdin",
     "output_type": "stream",
     "text": [
      " 100\n"
     ]
    },
    {
     "name": "stdout",
     "output_type": "stream",
     "text": [
      "calculando...\n",
      "seu IMC é de: 30.86\n",
      "seu IMC é de: 30.864197530864196\n"
     ]
    }
   ],
   "source": [
    "import time\n",
    "print(\"Bem vindo a calculadora de IMC\")\n",
    "print(\"Por favor, informe sua altura:\")\n",
    "altura = float(input())\n",
    "\n",
    "print(\"Por favor, informe seu peso:\")\n",
    "peso = float(input())\n",
    "\n",
    "print(\"calculando...\")\n",
    "time.sleep(1)\n",
    "print(\"seu IMC é de: {:.2f}\".format(peso / altura**2))\n",
    "print(\"seu IMC é de: {}\".format(peso / altura**2))\n"
   ]
  },
  {
   "cell_type": "markdown",
   "id": "f6304c02-9c0a-47c7-94d3-26adf1b802d3",
   "metadata": {},
   "source": [
    "pergunta o nome completo do usuario e cumprimente ele pelo primeiro nome"
   ]
  },
  {
   "cell_type": "code",
   "execution_count": 24,
   "id": "ec97f8d5-d9cd-438b-ac4c-1a36c71f7c9b",
   "metadata": {},
   "outputs": [
    {
     "name": "stdout",
     "output_type": "stream",
     "text": [
      "Qual é seu nome completo\n"
     ]
    },
    {
     "name": "stdin",
     "output_type": "stream",
     "text": [
      " vinicius de andrade souza\n"
     ]
    },
    {
     "name": "stdout",
     "output_type": "stream",
     "text": [
      "olá vinicius.\n"
     ]
    }
   ],
   "source": [
    "print(\"Qual é seu nome completo\")\n",
    "nome = input()\n",
    "primeiro_nome = nome.split()[0]\n",
    "print(\"olá {}.\".format(primeiro_nome))\n"
   ]
  },
  {
   "cell_type": "markdown",
   "id": "3de6ec7e-cb78-4326-bd1c-a9c6ea7cd32f",
   "metadata": {},
   "source": [
    "desenhe um código que extraia o domínio de um e-mail informado"
   ]
  },
  {
   "cell_type": "code",
   "execution_count": 26,
   "id": "d9341049-093c-453c-be39-437bb2f04d3d",
   "metadata": {},
   "outputs": [
    {
     "name": "stdout",
     "output_type": "stream",
     "text": [
      "Informe um e-mail\n"
     ]
    },
    {
     "name": "stdin",
     "output_type": "stream",
     "text": [
      " viniaasouza98@gmail.com\n"
     ]
    },
    {
     "name": "stdout",
     "output_type": "stream",
     "text": [
      "O domínio informado foi: gmail.com.\n"
     ]
    }
   ],
   "source": [
    "print(\"Informe um e-mail\")\n",
    "email = input()\n",
    "dominio = email.split(\"@\")[-1]\n",
    "print(\"O domínio informado foi: {}.\".format(dominio))"
   ]
  },
  {
   "cell_type": "markdown",
   "id": "6703e7f2-8d29-45c3-9471-e6c60745e9bc",
   "metadata": {},
   "source": [
    "## faça um programa para uma loja de tintas. A pessoa informa a área em m2 que deseja pintar, e o script calculará a quantidade de latas de tinta que a pessoa deve comprar e o valor. Considere que cada litro de tinta pinta 3m2, que cada lata contém 18L e que custa 80."
   ]
  },
  {
   "cell_type": "code",
   "execution_count": 56,
   "id": "dff2c8f9-39e7-476b-8424-5d18afcef7d5",
   "metadata": {},
   "outputs": [
    {
     "name": "stdout",
     "output_type": "stream",
     "text": [
      "quantos metros2 voce vai pintar:\n"
     ]
    },
    {
     "name": "stdin",
     "output_type": "stream",
     "text": [
      " 80\n"
     ]
    },
    {
     "name": "stdout",
     "output_type": "stream",
     "text": [
      "Vai precisar de 1.5 lata de tinta\n",
      "vai custar 118.5185185185185\n"
     ]
    }
   ],
   "source": [
    "print(\"quantos metros2 voce vai pintar:\")\n",
    "metro2 = int(input())\n",
    "lata = 1\n",
    "preco = 80\n",
    "\n",
    "print(\"Vai precisar de {:.1f} lata de tinta\".format(metro2/54))\n",
    "print(\"vai custar {}\".format((metro2/54)*80))\n",
    "    \n",
    "   \n"
   ]
  },
  {
   "cell_type": "code",
   "execution_count": 62,
   "id": "57f40d68-944a-4fd5-ae5b-d0640a17f4f2",
   "metadata": {},
   "outputs": [
    {
     "name": "stdout",
     "output_type": "stream",
     "text": [
      "Bem vindo a loja  de tintas\n",
      "informe a área que deseja pintar\n"
     ]
    },
    {
     "name": "stdin",
     "output_type": "stream",
     "text": [
      " 180\n"
     ]
    },
    {
     "name": "stdout",
     "output_type": "stream",
     "text": [
      "você precisará de 3 latas e sairá por 240 reais.\n"
     ]
    }
   ],
   "source": [
    "#resolução da academy\n",
    "print(\"Bem vindo a loja  de tintas\")\n",
    "print(\"informe a área que deseja pintar\")\n",
    "area = float(input())\n",
    "\n",
    "volume_necessario = area / 3\n",
    "latas = int(volume_necessario / 18)\n",
    "custo = latas * 80\n",
    "\n",
    "print(\"você precisará de {} latas e sairá por {} reais.\".format(latas, custo))\n"
   ]
  },
  {
   "cell_type": "markdown",
   "id": "41687fbe-834e-48da-b578-b30990d68a82",
   "metadata": {},
   "source": [
    "exercicio 5\n",
    "faça um programa que pergunte quanto você ganha por hora e o numero de horas trabalhadas no mês. Calcule e mostre o total do seu salário no referido mês, sabendo-se que são descontados 11% de imposto de renda, 8% para o inss e 5% para o sindicato. Faça um programa que nos dê:\n",
    "\n",
    "1. salário bruto\n",
    "2. quanto pagou ao inss\n",
    "3. quanto pagou ao sindicato\n",
    "4. salário líquido\n"
   ]
  },
  {
   "cell_type": "code",
   "execution_count": 97,
   "id": "8db88cdd-39f1-4a68-82df-cd44b422a78a",
   "metadata": {},
   "outputs": [
    {
     "name": "stdout",
     "output_type": "stream",
     "text": [
      "informe o seu salário:\n"
     ]
    },
    {
     "name": "stdin",
     "output_type": "stream",
     "text": [
      " 1800\n"
     ]
    },
    {
     "name": "stdout",
     "output_type": "stream",
     "text": [
      "1800.0\n",
      "você pagou 198.0 de imposto de renda\n",
      "você pagou 144.0 de inss\n",
      "você pagou 90.0 ao sindicato\n",
      "seu salário liquido é de 1368.0 reais\n"
     ]
    }
   ],
   "source": [
    "print(\"informe o seu salário:\")\n",
    "salario = float(input())\n",
    "print(salario)\n",
    "\n",
    "ir = salario / (100/11)\n",
    "print(\"você pagou {:.1f} de imposto de renda\".format(ir))\n",
    "inss = salario / (100/8)\n",
    "print(\"você pagou {:.1f} de inss\".format(inss))\n",
    "sindicato = salario / (100/5)\n",
    "print(\"você pagou {:.1f} ao sindicato\".format(sindicato))\n",
    "\n",
    "salario_liquido = salario - (ir + inss + sindicato)\n",
    "print(\"seu salário liquido é de {} reais\".format(salario_liquido))"
   ]
  },
  {
   "cell_type": "markdown",
   "id": "aed52b9c-524f-4386-89fa-e47b8f4b495c",
   "metadata": {},
   "source": [
    "exercício 6\n",
    "faça um programa para a leitura de duas notas parciais de um aluno. O programa deve calcular a média alcançada por aluno e apresentar\n",
    "1. a mensagem de aprovado se acima ou igual a 7\n",
    "2. reprovado se a média for menor que 7\n",
    "3. aprovado com distinção se for maior que 10\n",
    "\n"
   ]
  },
  {
   "cell_type": "code",
   "execution_count": 105,
   "id": "8eccc3f1-efd3-4a46-90e3-f50de1df6acf",
   "metadata": {},
   "outputs": [
    {
     "name": "stdout",
     "output_type": "stream",
     "text": [
      "insira a primeira nota do aluno: \n"
     ]
    },
    {
     "name": "stdin",
     "output_type": "stream",
     "text": [
      " 15\n"
     ]
    },
    {
     "name": "stdout",
     "output_type": "stream",
     "text": [
      "insira a segunda nota do aluno: \n"
     ]
    },
    {
     "name": "stdin",
     "output_type": "stream",
     "text": [
      " 15\n"
     ]
    },
    {
     "name": "stdout",
     "output_type": "stream",
     "text": [
      "aluno aprovado\n"
     ]
    }
   ],
   "source": [
    "print(\"insira a primeira nota do aluno: \")\n",
    "nota1 = float(input())\n",
    "print(\"insira a segunda nota do aluno: \")\n",
    "nota2 = float(input())\n",
    "\n",
    "def media(nota1, nota2):\n",
    "    return (nota1 + nota2)/2\n",
    "\n",
    "media = media(nota1, nota2)\n",
    "\n",
    "if(media == 10):\n",
    "    print(\"Aprovado com distinção\")\n",
    "elif(media >= 7):\n",
    "    print(\"aluno aprovado\")\n",
    "else:\n",
    "    print(\"reprovado\")\n",
    "    "
   ]
  },
  {
   "cell_type": "markdown",
   "id": "174796b5-fbd4-4374-a83f-03259323edae",
   "metadata": {},
   "source": [
    "exercício 7 \n",
    "escreva um script que leia tres numeros e mostre o maior e o menor deles\n"
   ]
  },
  {
   "cell_type": "code",
   "execution_count": 119,
   "id": "cd1d1091-d8c2-456c-bb91-d370ea07f34b",
   "metadata": {},
   "outputs": [
    {
     "name": "stdout",
     "output_type": "stream",
     "text": [
      "informe o 1° número: \n"
     ]
    },
    {
     "name": "stdin",
     "output_type": "stream",
     "text": [
      " 20\n"
     ]
    },
    {
     "name": "stdout",
     "output_type": "stream",
     "text": [
      "informe o 2° número: \n"
     ]
    },
    {
     "name": "stdin",
     "output_type": "stream",
     "text": [
      " 54\n"
     ]
    },
    {
     "name": "stdout",
     "output_type": "stream",
     "text": [
      "informe o 3° número: \n"
     ]
    },
    {
     "name": "stdin",
     "output_type": "stream",
     "text": [
      " 9\n"
     ]
    },
    {
     "name": "stdout",
     "output_type": "stream",
     "text": [
      "o maior numero é: 54\n",
      "o menor numero é: 9\n"
     ]
    }
   ],
   "source": [
    "list_nums = []\n",
    "for i in range(3):\n",
    "    print(\"informe o {}° número: \".format(i + 1))\n",
    "    x = int(input())\n",
    "    list_nums.append(x)\n",
    "\n",
    "list_nums.sort()\n",
    "print(\"o maior numero é: {}\".format(list_nums[-1]))\n",
    "print(\"o menor numero é: {}\".format(list_nums[0]))"
   ]
  },
  {
   "cell_type": "markdown",
   "id": "4794b0b3-0f77-46ed-bef7-2ae0b16b4ac9",
   "metadata": {},
   "source": [
    "nome na vertical em escada"
   ]
  },
  {
   "cell_type": "code",
   "execution_count": 5,
   "id": "e254fdf7-6e48-4bfa-b331-5878e31d3115",
   "metadata": {},
   "outputs": [
    {
     "name": "stdout",
     "output_type": "stream",
     "text": [
      "informe o nome a ser colocado em escada: \n"
     ]
    },
    {
     "name": "stdin",
     "output_type": "stream",
     "text": [
      " vinicius\n"
     ]
    },
    {
     "name": "stdout",
     "output_type": "stream",
     "text": [
      "[]\n",
      "['v']\n",
      "['v', 'i']\n",
      "['v', 'i', 'n']\n",
      "['v', 'i', 'n', 'i']\n",
      "['v', 'i', 'n', 'i', 'c']\n",
      "['v', 'i', 'n', 'i', 'c', 'i']\n",
      "['v', 'i', 'n', 'i', 'c', 'i', 'u']\n",
      "['v', 'i', 'n', 'i', 'c', 'i', 'u', 's']\n"
     ]
    }
   ],
   "source": [
    "print(\"informe o nome a ser colocado em escada: \")\n",
    "lista = list(input())\n",
    "\n",
    "for i in range(len(lista) + 1):\n",
    "    print(lista[:i])\n",
    "    \n",
    "    "
   ]
  },
  {
   "cell_type": "code",
   "execution_count": null,
   "id": "280abf63-3469-4558-8bae-fb8a1c9c440d",
   "metadata": {},
   "outputs": [],
   "source": [
    "\n"
   ]
  }
 ],
 "metadata": {
  "kernelspec": {
   "display_name": "Python 3 (ipykernel)",
   "language": "python",
   "name": "python3"
  },
  "language_info": {
   "codemirror_mode": {
    "name": "ipython",
    "version": 3
   },
   "file_extension": ".py",
   "mimetype": "text/x-python",
   "name": "python",
   "nbconvert_exporter": "python",
   "pygments_lexer": "ipython3",
   "version": "3.12.4"
  }
 },
 "nbformat": 4,
 "nbformat_minor": 5
}
