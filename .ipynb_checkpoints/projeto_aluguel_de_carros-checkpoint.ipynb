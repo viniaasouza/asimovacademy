{
 "cells": [
  {
   "cell_type": "markdown",
   "id": "6d34e3e8-d0d8-4a2c-b625-143abe11f747",
   "metadata": {},
   "source": [
    "desenvolver um algoritmo para uma locadora de carros\n",
    "0 - mostrar portfólio   1- alugar um carro    2- devolver um carro\n"
   ]
  },
  {
   "cell_type": "code",
   "execution_count": 23,
   "id": "43a48251-9ca6-452a-86f2-8b03a33d5ccc",
   "metadata": {},
   "outputs": [
    {
     "ename": "SyntaxError",
     "evalue": "invalid syntax (3013694501.py, line 17)",
     "output_type": "error",
     "traceback": [
      "\u001b[1;36m  Cell \u001b[1;32mIn[23], line 17\u001b[1;36m\u001b[0m\n\u001b[1;33m    def aluguel():\u001b[0m\n\u001b[1;37m    ^\u001b[0m\n\u001b[1;31mSyntaxError\u001b[0m\u001b[1;31m:\u001b[0m invalid syntax\n"
     ]
    }
   ],
   "source": [
    "def mostrar_menu():\n",
    "    print(\"o que você gostaria de fazer?\")\n",
    "    print(\"1 - Mostrar portfólio\")\n",
    "    print(\"2 - Alugar um carro\")\n",
    "    print(\"3 - Devolver um carro\")\n",
    "    print(\"0 - Sair\")\n",
    "\n",
    "\n",
    "def mostrar_portfolio():\n",
    "    lista_carros = {1 : \"fiat mobi\",\n",
    "                    2 : \"fiat uno\", \n",
    "                    3 : \"ford ka\"\n",
    "                   }\n",
    "    print(\"{}\".format(lista_carros)\n",
    "\n",
    "          \n",
    "def alugar():\n",
    "    Wcar = input(\"Escolha qual carro deseja alugar\")\n",
    "    return wcar\n",
    "    \n",
    "\n",
    "def devolver(lista):\n",
    "    lista_recebida = [lista]\n",
    "    print(\"{}\".format(lista_recebida)\n",
    "\n",
    "\n",
    "while True:\n",
    "    mostrar_menu()\n",
    "    escolha = int((input(\"escolha uma opção: \"))\n",
    "\n",
    "    if escolha == 1:\n",
    "        print(mostrar_portfolio)\n",
    "    elif escolha == 2:\n",
    "        mandar_devolver = alugar()\n",
    "        devolver(mandar_devolver)\n",
    "\n",
    "                      \n",
    "                    "
   ]
  },
  {
   "cell_type": "code",
   "execution_count": null,
   "id": "0f038a7a-8c4c-431e-9cf7-acb6f56e5569",
   "metadata": {},
   "outputs": [],
   "source": []
  },
  {
   "cell_type": "code",
   "execution_count": null,
   "id": "222fae32-bfef-4398-99b9-e0cafc7478f8",
   "metadata": {},
   "outputs": [],
   "source": []
  }
 ],
 "metadata": {
  "kernelspec": {
   "display_name": "Python 3 (ipykernel)",
   "language": "python",
   "name": "python3"
  },
  "language_info": {
   "codemirror_mode": {
    "name": "ipython",
    "version": 3
   },
   "file_extension": ".py",
   "mimetype": "text/x-python",
   "name": "python",
   "nbconvert_exporter": "python",
   "pygments_lexer": "ipython3",
   "version": "3.12.4"
  }
 },
 "nbformat": 4,
 "nbformat_minor": 5
}
