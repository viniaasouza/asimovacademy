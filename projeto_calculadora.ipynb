{
 "cells": [
  {
   "cell_type": "markdown",
   "id": "4b28d2b9-b65b-40da-ad43-bf884122cca2",
   "metadata": {},
   "source": [
    "fazer um projeto de uma calculadora. Como posso resolver? \n",
    "criar as funções dos calculos: (soma, multiplicação, divisão, exponenciação e subtração)\n",
    "fazer um if se quer continuar a operação que chama a função calculadora, (a função calculadora vai chamar as funções de calculo)\n"
   ]
  },
  {
   "cell_type": "code",
   "execution_count": 45,
   "id": "7ca58c14-4000-4c08-8e56-60f9c1412a16",
   "metadata": {},
   "outputs": [
    {
     "name": "stdout",
     "output_type": "stream",
     "text": [
      "adição - 1\n",
      "subtração - 2\n",
      "multiplicação - 3\n",
      "divisão - 4\n",
      "exponenciação - 5\n"
     ]
    },
    {
     "name": "stdin",
     "output_type": "stream",
     "text": [
      " 3\n"
     ]
    },
    {
     "name": "stdout",
     "output_type": "stream",
     "text": [
      "digite o primeiro numero que deseja fazer a operacao: \n"
     ]
    },
    {
     "name": "stdin",
     "output_type": "stream",
     "text": [
      " 5\n"
     ]
    },
    {
     "name": "stdout",
     "output_type": "stream",
     "text": [
      "digite o segundo numero que deseja fazer a operacao: \n"
     ]
    },
    {
     "name": "stdin",
     "output_type": "stream",
     "text": [
      " 5\n"
     ]
    },
    {
     "name": "stdout",
     "output_type": "stream",
     "text": [
      "25.0\n"
     ]
    }
   ],
   "source": [
    "print(\"adição - 1\")\n",
    "print(\"subtração - 2\")\n",
    "print(\"multiplicação - 3\")\n",
    "print(\"divisão - 4\")\n",
    "print(\"exponenciação - 5\")\n",
    "operação = int(input())\n",
    "\n",
    "print(\"digite o primeiro numero que deseja fazer a operacao: \")\n",
    "x = float(input())\n",
    "print(\"digite o segundo numero que deseja fazer a operacao: \")\n",
    "y = float(input())\n",
    "\n",
    "def adicao(x,y):\n",
    "    return x + y\n",
    "\n",
    "def subtracao(x,y):\n",
    "    return x - y\n",
    "\n",
    "def multiplicacao(x,y):\n",
    "    return x*y\n",
    "\n",
    "def divisao(x,y):\n",
    "    return x/y\n",
    "\n",
    "def exponenciacao(x,y):\n",
    "    return x**y\n",
    "    \n",
    "\n",
    "if(operação == 1):\n",
    "    adicao(x,y)\n",
    "    print(adicao(x,y))\n",
    "\n",
    "elif(operação == 2):\n",
    "    subtracao(x,y)\n",
    "    print(subtracao(x,y))\n",
    "\n",
    "elif(operação == 3):\n",
    "    multiplicacao(x,y)\n",
    "    print(multiplicacao(x,y))\n",
    "\n",
    "elif(operação == 4):\n",
    "    divisao(x,y)\n",
    "    print(divisao(x,y))\n",
    "\n",
    "else:\n",
    "    exponenciacao(x,y)\n",
    "    print(exponenciacao(x,y))"
   ]
  },
  {
   "cell_type": "code",
   "execution_count": null,
   "id": "4f500793-6338-4f82-893d-6bf4bfef4b51",
   "metadata": {},
   "outputs": [],
   "source": []
  }
 ],
 "metadata": {
  "kernelspec": {
   "display_name": "Python 3 (ipykernel)",
   "language": "python",
   "name": "python3"
  },
  "language_info": {
   "codemirror_mode": {
    "name": "ipython",
    "version": 3
   },
   "file_extension": ".py",
   "mimetype": "text/x-python",
   "name": "python",
   "nbconvert_exporter": "python",
   "pygments_lexer": "ipython3",
   "version": "3.12.4"
  }
 },
 "nbformat": 4,
 "nbformat_minor": 5
}
